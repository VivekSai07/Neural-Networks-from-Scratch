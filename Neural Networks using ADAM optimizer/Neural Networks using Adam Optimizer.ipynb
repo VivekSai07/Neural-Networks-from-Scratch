{
 "cells": [
  {
   "cell_type": "markdown",
   "id": "8c6db92e",
   "metadata": {},
   "source": [
    "# Neural Network with Sigmoid Activation function using ADAM Optimizer"
   ]
  },
  {
   "cell_type": "code",
   "execution_count": 50,
   "id": "2066afc6",
   "metadata": {},
   "outputs": [
    {
     "name": "stdout",
     "output_type": "stream",
     "text": [
      "[[0.99980435 0.99979342 0.9999189 ]]\n"
     ]
    }
   ],
   "source": [
    "import numpy as np\n",
    "\n",
    "class NeuralNetwork:\n",
    "    def __init__(self, inputs, outputs):\n",
    "        self.inputs = inputs\n",
    "        self.outputs = outputs\n",
    "        self.weights = np.random.rand(inputs.shape[1], outputs.shape[1])\n",
    "        self.biases = np.random.rand(1, outputs.shape[1])\n",
    "        self.learning_rate = 0.01\n",
    "        self.beta1 = 0.9\n",
    "        self.beta2 = 0.999\n",
    "        self.epsilon = 1e-8\n",
    "        self.m = np.zeros_like(self.weights)\n",
    "        self.v = np.zeros_like(self.weights)\n",
    "        self.t = 0\n",
    "        self.error_history = []\n",
    "        self.epoch_list = []\n",
    "        \n",
    "    def sigmoid(self, x):\n",
    "        return 1/(1 + np.exp(-x))\n",
    "    \n",
    "    def sigmoid(self, x, deriv = False):\n",
    "        if deriv == True:\n",
    "            return self.sigmoid_derivative(x)\n",
    "        return 1/(1+np.exp(-x))\n",
    "    \n",
    "    def sigmoid_derivative(self, x):\n",
    "        return self.sigmoid(x)*(1-self.sigmoid(x))\n",
    "    \n",
    "    def forward_pass(self):\n",
    "        self.hidden = np.dot(self.inputs, self.weights) + self.biases\n",
    "        self.output = self.sigmoid(self.hidden)\n",
    "        \n",
    "    def backward_pass(self):\n",
    "        self.error = self.outputs - self.output\n",
    "        self.d_output = self.error * self.sigmoid(self.output, deriv=True)\n",
    "        self.d_weights = np.dot(self.inputs.T, self.d_output)\n",
    "        self.d_biases = np.sum(self.d_output, axis=0)\n",
    "        \n",
    "    def update_weights(self):\n",
    "        self.t += 1\n",
    "        self.m = self.beta1 * self.m + (1 - self.beta1) * self.d_weights\n",
    "        self.v = self.beta2 * self.v + (1 - self.beta2) * np.power(self.d_weights, 2)\n",
    "        m_hat = self.m / (1 - self.beta1**self.t)\n",
    "        v_hat = self.v / (1 - self.beta2**self.t)\n",
    "        self.weights += self.learning_rate * m_hat / (np.sqrt(v_hat) + self.epsilon)\n",
    "        self.biases += self.learning_rate * self.d_biases\n",
    "        \n",
    "    def train(self, iterations):\n",
    "        for i in range(iterations):\n",
    "            self.forward_pass()\n",
    "            self.backward_pass()\n",
    "            self.update_weights()\n",
    "            self.error_history.append(np.average(np.abs(self.error)))\n",
    "            self.epoch_list.append(iterations)\n",
    "            \n",
    "    def predict(self, inputs):\n",
    "        hidden = np.dot(inputs, self.weights) + self.biases\n",
    "        return self.sigmoid(hidden)\n",
    "\n",
    "inputs = np.array([[0,0.1,0.2]])\n",
    "outputs = np.array([[1, 1, 1]])\n",
    "\n",
    "nn = NeuralNetwork(inputs, outputs)\n",
    "nn.train(1000)\n",
    "print(nn.predict([[0, 0.5, 0.7]]))"
   ]
  },
  {
   "cell_type": "code",
   "execution_count": 51,
   "id": "a9a98aa9",
   "metadata": {},
   "outputs": [
    {
     "data": {
      "text/plain": [
       "Text(0, 0.5, 'Loss')"
      ]
     },
     "execution_count": 51,
     "metadata": {},
     "output_type": "execute_result"
    },
    {
     "data": {
      "image/png": "[encoded data removed]",
      "text/plain": [
       "<Figure size 1080x360 with 1 Axes>"
      ]
     },
     "metadata": {
      "needs_background": "light"
     },
     "output_type": "display_data"
    }
   ],
   "source": [
    "import matplotlib.pyplot as plt \n",
    "plt.figure(figsize=(15,5))\n",
    "plt.plot(nn.epoch_list, nn.error_history)\n",
    "plt.xlabel('Epoch')\n",
    "plt.ylabel('Loss')"
   ]
  },
  {
   "cell_type": "code",
   "execution_count": null,
   "id": "cd9dd63d",
   "metadata": {},
   "outputs": [],
   "source": []
  }
 ],
 "metadata": {
  "kernelspec": {
   "display_name": "Python 3 (ipykernel)",
   "language": "python",
   "name": "python3"
  },
  "language_info": {
   "codemirror_mode": {
    "name": "ipython",
    "version": 3
   },
   "file_extension": ".py",
   "mimetype": "text/x-python",
   "name": "python",
   "nbconvert_exporter": "python",
   "pygments_lexer": "ipython3",
   "version": "3.10.2"
  }
 },
 "nbformat": 4,
 "nbformat_minor": 5
}
