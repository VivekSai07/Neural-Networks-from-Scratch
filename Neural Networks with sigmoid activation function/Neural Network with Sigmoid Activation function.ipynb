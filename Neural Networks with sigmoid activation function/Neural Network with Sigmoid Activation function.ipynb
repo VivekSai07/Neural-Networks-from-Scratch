{
 "cells": [
  {
   "cell_type": "markdown",
   "id": "c02f4558",
   "metadata": {},
   "source": [
    "# Neural Network with Sigmoid Activation function"
   ]
  },
  {
   "cell_type": "code",
   "execution_count": 2,
   "id": "ce04b136",
   "metadata": {},
   "outputs": [
    {
     "name": "stdout",
     "output_type": "stream",
     "text": [
      "[[0.97776221 0.97767527 0.97791888]]\n"
     ]
    }
   ],
   "source": [
    "import numpy as np\n",
    "\n",
    "class NeuralNetwork:\n",
    "    def __init__(self, inputs, outputs):\n",
    "        self.inputs = inputs\n",
    "        self.outputs = outputs\n",
    "        self.weights = np.random.rand(3, 3)\n",
    "        self.bias = np.random.rand(1)\n",
    "        self.error_history = []\n",
    "        self.epoch_list = []\n",
    "        self.lr = 0.05\n",
    "        \n",
    "    def sigmoid(self, x, deriv = False):\n",
    "        if deriv == True:\n",
    "            return self.sigmoid_derivative(x)\n",
    "        return 1/(1+np.exp(-x))\n",
    "    \n",
    "    def sigmoid_derivative(self, x):\n",
    "        return self.sigmoid(x)*(1-self.sigmoid(x))\n",
    "    \n",
    "    def forward_propogation(self):\n",
    "        self.hidden = self.sigmoid((np.dot(self.inputs, self.weights)+self.bias))\n",
    "    \n",
    "    def back_Propogation(self):\n",
    "        self.error = self.hidden - self.outputs\n",
    "        delta = self.error * self.sigmoid(self.hidden, deriv=True)\n",
    "        self.weights -= self.lr * np.dot(self.inputs.T, delta)\n",
    "    \n",
    "    def train(self, epochs = 25000):\n",
    "        for epoch in range(epochs):\n",
    "            self.forward_propogation()\n",
    "            self.back_Propogation()\n",
    "            self.error_history.append(np.average(np.abs(self.error)))\n",
    "            self.epoch_list.append(epoch)\n",
    "    \n",
    "    def predict(self, new_input):\n",
    "        prediction = self.sigmoid((np.dot(new_input, self.weights)+self.bias))\n",
    "        return prediction\n",
    "\n",
    "inputs = np.array([[0,0.1,0.2]]) # Independent Variable\n",
    "outputs = np.array([[1, 1, 1]]) # Dependent variable\n",
    "\n",
    "NN = NeuralNetwork(inputs, outputs)\n",
    "NN.train(epochs=90000)\n",
    "\n",
    "test = np.array([[0,0.1,0.2]])\n",
    "print(NN.predict(test))"
   ]
  },
  {
   "cell_type": "code",
   "execution_count": 3,
   "id": "1b515203",
   "metadata": {},
   "outputs": [
    {
     "data": {
      "text/plain": [
       "Text(0, 0.5, 'Loss')"
      ]
     },
     "execution_count": 3,
     "metadata": {},
     "output_type": "execute_result"
    },
    {
     "data": {
      "image/png": "[encoded data removed]",
      "text/plain": [
       "<Figure size 1080x360 with 1 Axes>"
      ]
     },
     "metadata": {
      "needs_background": "light"
     },
     "output_type": "display_data"
    }
   ],
   "source": [
    "import matplotlib.pyplot as plt \n",
    "plt.figure(figsize=(15,5))\n",
    "plt.plot(NN.epoch_list, NN.error_history)\n",
    "plt.xlabel('Epoch')\n",
    "plt.ylabel('Loss')"
   ]
  },
  {
   "cell_type": "code",
   "execution_count": null,
   "id": "bc048017",
   "metadata": {},
   "outputs": [],
   "source": []
  }
 ],
 "metadata": {
  "kernelspec": {
   "display_name": "Python 3 (ipykernel)",
   "language": "python",
   "name": "python3"
  },
  "language_info": {
   "codemirror_mode": {
    "name": "ipython",
    "version": 3
   },
   "file_extension": ".py",
   "mimetype": "text/x-python",
   "name": "python",
   "nbconvert_exporter": "python",
   "pygments_lexer": "ipython3",
   "version": "3.10.2"
  }
 },
 "nbformat": 4,
 "nbformat_minor": 5
}
